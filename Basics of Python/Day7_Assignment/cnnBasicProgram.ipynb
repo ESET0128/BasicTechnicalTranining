{
 "cells": [
  {
   "cell_type": "markdown",
   "id": "e9f59bfc",
   "metadata": {},
   "source": [
    "# CNN Example Program"
   ]
  },
  {
   "cell_type": "code",
   "execution_count": null,
   "id": "87005b76",
   "metadata": {},
   "outputs": [],
   "source": [
    "import tensorflow as tf \n",
    "from tensorflow.keras import layers, models\n",
    "import matplotlib.pyplot as plt\n",
    "import numpy as np"
   ]
  },
  {
   "cell_type": "code",
   "execution_count": null,
   "id": "11775a38",
   "metadata": {},
   "outputs": [],
   "source": [
    "mist=tf.keras.datasets.mnist"
   ]
  },
  {
   "cell_type": "code",
   "execution_count": null,
   "id": "a2653c60",
   "metadata": {},
   "outputs": [],
   "source": [
    "mist.load_data()"
   ]
  },
  {
   "cell_type": "code",
   "execution_count": null,
   "id": "8ae636c1",
   "metadata": {},
   "outputs": [],
   "source": [
    "(x_train, y_train),(x_test, y_test)=mist.load_data() "
   ]
  },
  {
   "cell_type": "code",
   "execution_count": null,
   "id": "4a6b97dc",
   "metadata": {},
   "outputs": [],
   "source": [
    "x_train, x_test = x_train/255.0 , x_test/255.0"
   ]
  },
  {
   "cell_type": "code",
   "execution_count": null,
   "id": "3f99383a",
   "metadata": {},
   "outputs": [],
   "source": [
    "model = models.Sequential([layers.Conv2D(32,(3,3), activation='relu', input_shape=(28,28,1)),\n",
    "                           layers.MaxPooling2D((2,2)),\n",
    "                           layers.Conv2D(64,(3,3), activation='relu'),\n",
    "                           layers.MaxPooling2D((2,2)), \n",
    "                           layers.Conv2D(64,(3,3), activation='relu'),\n",
    "                           layers.Flatten(),\n",
    "                           layers.Dense(64, activation='relu'),\n",
    "                           layers.Dense(10, activation='softmax')\n",
    "                           ])"
   ]
  },
  {
   "cell_type": "code",
   "execution_count": null,
   "id": "32d21b71",
   "metadata": {},
   "outputs": [],
   "source": [
    "model.compile(optimizer='adam', loss='sparse_categorical_crossentropy', metrics=['accuracy'])"
   ]
  },
  {
   "cell_type": "code",
   "execution_count": null,
   "id": "8988c487",
   "metadata": {},
   "outputs": [],
   "source": [
    "history=model.fit(x_train, y_train, epochs=10, validation_data=(x_test, y_test))"
   ]
  },
  {
   "cell_type": "code",
   "execution_count": null,
   "id": "c93bb661",
   "metadata": {},
   "outputs": [],
   "source": []
  }
 ],
 "metadata": {
  "kernelspec": {
   "display_name": "myenv",
   "language": "python",
   "name": "python3"
  },
  "language_info": {
   "codemirror_mode": {
    "name": "ipython",
    "version": 3
   },
   "file_extension": ".py",
   "mimetype": "text/x-python",
   "name": "python",
   "nbconvert_exporter": "python",
   "pygments_lexer": "ipython3",
   "version": "3.13.7"
  }
 },
 "nbformat": 4,
 "nbformat_minor": 5
}
